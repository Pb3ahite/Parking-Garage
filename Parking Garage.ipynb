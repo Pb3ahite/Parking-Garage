{
 "cells": [
  {
   "cell_type": "code",
   "execution_count": 4,
   "metadata": {},
   "outputs": [],
   "source": [
    "class ParkingGarage:\n",
    "    def __init__(self, capacity):\n",
    "        self.capacity = capacity\n",
    "        self.available_spots = capacity\n",
    "        self.occupied_spots = 0\n",
    "        self.tickets = []\n",
    "        self.parking_spaces = []\n",
    "        self.current_ticket = {}  \n",
    "\n",
    "    def take_ticket(self):\n",
    "        if self.available_spots > 0:\n",
    "            ticket_number = len(self.tickets) + 1\n",
    "            self.tickets.append(ticket_number)\n",
    "            self.parking_spaces.append(ticket_number)\n",
    "            self.available_spots -= 1\n",
    "            print(f\"Ticket taken. Your ticket number is {ticket_number}.\")\n",
    "        else:\n",
    "            print(\"Sorry, the parking garage is full.\")\n",
    "\n",
    "    def pay_for_parking(self):\n",
    "        if self.current_ticket.get('paid'):\n",
    "            print(\"Your ticket has already been paid. You have 30 minutes to leave.\")\n",
    "        else:\n",
    "            payment = input(\"Please enter the amount to pay: \")\n",
    "            if payment:\n",
    "                self.current_ticket['paid'] = True\n",
    "                print(\"Ticket payment successful. You have 30 minutes to leave.\")\n",
    "            else:\n",
    "                print(\"No payment entered.\")\n",
    "\n",
    "    def leave_garage(self):\n",
    "        if self.current_ticket.get('paid'):\n",
    "            print(\"Thank you, Shalom!\")\n",
    "            ticket_number = self.current_ticket.get('ticket_number')\n",
    "            self.parking_spaces.remove(ticket_number)\n",
    "            self.tickets.remove(ticket_number)\n",
    "            self.current_ticket = {}\n",
    "            self.available_spots += 1\n",
    "        else:\n",
    "            payment = input(\"Please make payment to leave: \")\n",
    "            if payment:\n",
    "                self.current_ticket['paid'] = True\n",
    "                print(\"Payment received. Thank you, Shalom.\")\n",
    "                ticket_number = self.current_ticket.get('ticket_number')\n",
    "                self.parking_spaces.remove(ticket_number)\n",
    "                self.tickets.remove(ticket_number)\n",
    "                self.current_ticket = {}\n",
    "                self.available_spots += 1\n",
    "            else:\n",
    "                print(\"No payment received. Please make a payment to leave.\")\n"
   ]
  }
 ],
 "metadata": {
  "kernelspec": {
   "display_name": "Python 3",
   "language": "python",
   "name": "python3"
  },
  "language_info": {
   "codemirror_mode": {
    "name": "ipython",
    "version": 3
   },
   "file_extension": ".py",
   "mimetype": "text/x-python",
   "name": "python",
   "nbconvert_exporter": "python",
   "pygments_lexer": "ipython3",
   "version": "3.10.11"
  },
  "orig_nbformat": 4
 },
 "nbformat": 4,
 "nbformat_minor": 2
}
